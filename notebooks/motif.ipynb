{
 "cells": [
  {
   "cell_type": "markdown",
   "metadata": {},
   "source": [
    "# Motif Notebook"
   ]
  },
  {
   "cell_type": "markdown",
   "metadata": {},
   "source": [
    "This notebook shows what the motif data is visualized like."
   ]
  },
  {
   "cell_type": "code",
   "execution_count": null,
   "metadata": {},
   "outputs": [],
   "source": [
    "# Imports #\n",
    "import pandas as pd\n",
    "import numpy as np\n",
    "import matplotlib.pyplot as plt\n",
    "from collections import defaultdict"
   ]
  },
  {
   "cell_type": "markdown",
   "metadata": {},
   "source": [
    "Loading data in:"
   ]
  },
  {
   "cell_type": "code",
   "execution_count": null,
   "metadata": {},
   "outputs": [],
   "source": [
    "# Load motifs and counts #\n",
    "motifs = []\n",
    "counts = []\n",
    "with open('../data/motifs.txt') as file:\n",
    "    for line in file:\n",
    "        motif, count = line.strip().split(\": \")\n",
    "        motifs.append(motif)\n",
    "        counts.append(int(count))"
   ]
  },
  {
   "cell_type": "markdown",
   "metadata": {},
   "source": [
    "Plotting frequency of each motif (top 50 frequencies):"
   ]
  },
  {
   "cell_type": "code",
   "execution_count": null,
   "metadata": {},
   "outputs": [],
   "source": [
    "# Plotting #\n",
    "plt.figure(figsize=(10, 6))\n",
    "plt.bar(motifs, counts, color='blue')\n",
    "plt.xticks(rotation=90)\n",
    "plt.xlabel(\"Motifs\")\n",
    "plt.ylabel(\"Frequency\")\n",
    "plt.title(\"Motif Frequency Visualization\")\n",
    "plt.tight_layout()\n",
    "plt.show()"
   ]
  },
  {
   "cell_type": "markdown",
   "metadata": {},
   "source": [
    "Calculating freqencies:"
   ]
  },
  {
   "cell_type": "code",
   "execution_count": null,
   "metadata": {},
   "outputs": [],
   "source": [
    "# Determine k-mer length #\n",
    "k = len(motifs[0])\n",
    "\n",
    "# Initialize position-wise nucleotide counts #\n",
    "nucleotide_counts = [defaultdict(int) for _ in range(k)]\n",
    "\n",
    "# Populate nucleotide counts based on k-mers and their frequencies #\n",
    "for motif, count in zip(motifs, counts):\n",
    "    for pos, nucleotide in enumerate(motif):\n",
    "        nucleotide_counts[pos][nucleotide] += count\n",
    "\n",
    "# Calculate nucleotide frequencies for each position #\n",
    "nucleotide_frequencies = []\n",
    "for pos_counts in nucleotide_counts:\n",
    "    total = sum(pos_counts.values())\n",
    "    frequencies = {nucleotide: count / total for nucleotide, count in pos_counts.items()}\n",
    "    nucleotide_frequencies.append(frequencies)"
   ]
  },
  {
   "cell_type": "markdown",
   "metadata": {},
   "source": [
    "Creating visualization to show frequency of each nucleotide at each position in the motifs:"
   ]
  },
  {
   "cell_type": "code",
   "execution_count": null,
   "metadata": {},
   "outputs": [],
   "source": [
    "# Plotting #\n",
    "fig, ax = plt.subplots(figsize=(10, 4))\n",
    "\n",
    "# Define colors for nucleotides #\n",
    "colors = {'A': 'green', 'C': 'blue', 'G': 'orange', 'T': 'red'}\n",
    "x = np.arange(k)\n",
    "\n",
    "# Initialize bottom for stacking #\n",
    "bottom = np.zeros(k)\n",
    "\n",
    "# Plot each nucleotide as a stacked bar #\n",
    "for nucleotide in 'ACGT':\n",
    "    heights = [nucleotide_frequencies[pos].get(nucleotide, 0) for pos in range(k)]\n",
    "    ax.bar(x, heights, bottom=bottom, color=colors[nucleotide], label=nucleotide)\n",
    "    bottom += heights\n",
    "\n",
    "# Labeling and display settings #\n",
    "ax.set_xticks(x)\n",
    "ax.set_xticklabels([f\"Pos {i+1}\" for i in x])\n",
    "ax.set_xlabel(\"Position in k-mer\")\n",
    "ax.set_ylabel(\"Frequency\")\n",
    "ax.legend(title=\"Nucleotides\")\n",
    "plt.title(\"Sequence Logo Visualization Based on k-mer Frequencies\")\n",
    "plt.tight_layout()\n",
    "plt.show()"
   ]
  }
 ],
 "metadata": {
  "kernelspec": {
   "display_name": "genetic-variation",
   "language": "python",
   "name": "python3"
  },
  "language_info": {
   "codemirror_mode": {
    "name": "ipython",
    "version": 3
   },
   "file_extension": ".py",
   "mimetype": "text/x-python",
   "name": "python",
   "nbconvert_exporter": "python",
   "pygments_lexer": "ipython3",
   "version": "3.9.20"
  }
 },
 "nbformat": 4,
 "nbformat_minor": 2
}
