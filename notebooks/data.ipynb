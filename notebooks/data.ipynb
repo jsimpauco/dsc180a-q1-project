{
 "cells": [
  {
   "cell_type": "markdown",
   "metadata": {},
   "source": [
    "# Data Notebook\n",
    "\n",
    "This notebook shows what the raw data looks like and what the filtered data looks like."
   ]
  },
  {
   "cell_type": "code",
   "execution_count": 1,
   "metadata": {},
   "outputs": [],
   "source": [
    "# Imports #\n",
    "from os import path\n",
    "import pandas as pd"
   ]
  },
  {
   "cell_type": "markdown",
   "metadata": {},
   "source": [
    "## Raw Data"
   ]
  },
  {
   "cell_type": "code",
   "execution_count": 2,
   "metadata": {},
   "outputs": [
    {
     "data": {
      "text/html": [
       "<div>\n",
       "<style scoped>\n",
       "    .dataframe tbody tr th:only-of-type {\n",
       "        vertical-align: middle;\n",
       "    }\n",
       "\n",
       "    .dataframe tbody tr th {\n",
       "        vertical-align: top;\n",
       "    }\n",
       "\n",
       "    .dataframe thead th {\n",
       "        text-align: right;\n",
       "    }\n",
       "</style>\n",
       "<table border=\"1\" class=\"dataframe\">\n",
       "  <thead>\n",
       "    <tr style=\"text-align: right;\">\n",
       "      <th></th>\n",
       "      <th>assembly</th>\n",
       "      <th>chrom</th>\n",
       "      <th>start</th>\n",
       "      <th>end</th>\n",
       "      <th>strand</th>\n",
       "      <th>seq</th>\n",
       "    </tr>\n",
       "  </thead>\n",
       "  <tbody>\n",
       "    <tr>\n",
       "      <th>0</th>\n",
       "      <td>GCF_000309985.2</td>\n",
       "      <td>NC_024803.2</td>\n",
       "      <td>44350126</td>\n",
       "      <td>44350638</td>\n",
       "      <td>-</td>\n",
       "      <td>AACGTTACACAAACCCAAACAAGAAAATACATCAAAAGTCACCCTA...</td>\n",
       "    </tr>\n",
       "    <tr>\n",
       "      <th>1</th>\n",
       "      <td>GCF_000801105.1</td>\n",
       "      <td>NW_017353143.1</td>\n",
       "      <td>6209626</td>\n",
       "      <td>6210138</td>\n",
       "      <td>+</td>\n",
       "      <td>CATCTTGAGCTTCCTCGAAAACAATCTGCTCTGTCTCTACATCATT...</td>\n",
       "    </tr>\n",
       "    <tr>\n",
       "      <th>2</th>\n",
       "      <td>GCF_000801105.1</td>\n",
       "      <td>NW_017353146.1</td>\n",
       "      <td>2729759</td>\n",
       "      <td>2730271</td>\n",
       "      <td>-</td>\n",
       "      <td>tacagataCAACCATCCTTGGAATGTATCATTCCACATTATACCAT...</td>\n",
       "    </tr>\n",
       "    <tr>\n",
       "      <th>3</th>\n",
       "      <td>GCF_000463585.1</td>\n",
       "      <td>NW_010966372.1</td>\n",
       "      <td>1523140</td>\n",
       "      <td>1523652</td>\n",
       "      <td>+</td>\n",
       "      <td>Agggaaaaatatatgaaaatttctgaatttgtaatttggtataata...</td>\n",
       "    </tr>\n",
       "    <tr>\n",
       "      <th>4</th>\n",
       "      <td>GCF_000001735.4</td>\n",
       "      <td>NC_003071.7</td>\n",
       "      <td>18874538</td>\n",
       "      <td>18875050</td>\n",
       "      <td>+</td>\n",
       "      <td>GGAATGTACTAATAAACTAGAAAAGATCTTGGGTCTGACTAATGCA...</td>\n",
       "    </tr>\n",
       "  </tbody>\n",
       "</table>\n",
       "</div>"
      ],
      "text/plain": [
       "          assembly           chrom     start       end strand  \\\n",
       "0  GCF_000309985.2     NC_024803.2  44350126  44350638      -   \n",
       "1  GCF_000801105.1  NW_017353143.1   6209626   6210138      +   \n",
       "2  GCF_000801105.1  NW_017353146.1   2729759   2730271      -   \n",
       "3  GCF_000463585.1  NW_010966372.1   1523140   1523652      +   \n",
       "4  GCF_000001735.4     NC_003071.7  18874538  18875050      +   \n",
       "\n",
       "                                                 seq  \n",
       "0  AACGTTACACAAACCCAAACAAGAAAATACATCAAAAGTCACCCTA...  \n",
       "1  CATCTTGAGCTTCCTCGAAAACAATCTGCTCTGTCTCTACATCATT...  \n",
       "2  tacagataCAACCATCCTTGGAATGTATCATTCCACATTATACCAT...  \n",
       "3  Agggaaaaatatatgaaaatttctgaatttgtaatttggtataata...  \n",
       "4  GGAATGTACTAATAAACTAGAAAAGATCTTGGGTCTGACTAATGCA...  "
      ]
     },
     "execution_count": 2,
     "metadata": {},
     "output_type": "execute_result"
    }
   ],
   "source": [
    "raw_data = pd.read_csv('../data/raw_data.csv')\n",
    "raw_data.head()"
   ]
  },
  {
   "cell_type": "code",
   "execution_count": 3,
   "metadata": {},
   "outputs": [
    {
     "data": {
      "text/plain": [
       "(4066336, 6)"
      ]
     },
     "execution_count": 3,
     "metadata": {},
     "output_type": "execute_result"
    }
   ],
   "source": [
    "raw_data.shape"
   ]
  },
  {
   "cell_type": "markdown",
   "metadata": {},
   "source": [
    "With the raw data, we are not getting the specific chromosome we want to interact with. Also, the sequence data is mixed with upercase and lowercase letters."
   ]
  },
  {
   "cell_type": "markdown",
   "metadata": {},
   "source": [
    "## Filtered Data"
   ]
  },
  {
   "cell_type": "code",
   "execution_count": 4,
   "metadata": {},
   "outputs": [
    {
     "data": {
      "text/html": [
       "<div>\n",
       "<style scoped>\n",
       "    .dataframe tbody tr th:only-of-type {\n",
       "        vertical-align: middle;\n",
       "    }\n",
       "\n",
       "    .dataframe tbody tr th {\n",
       "        vertical-align: top;\n",
       "    }\n",
       "\n",
       "    .dataframe thead th {\n",
       "        text-align: right;\n",
       "    }\n",
       "</style>\n",
       "<table border=\"1\" class=\"dataframe\">\n",
       "  <thead>\n",
       "    <tr style=\"text-align: right;\">\n",
       "      <th></th>\n",
       "      <th>assembly</th>\n",
       "      <th>chrom</th>\n",
       "      <th>start</th>\n",
       "      <th>end</th>\n",
       "      <th>strand</th>\n",
       "      <th>seq</th>\n",
       "    </tr>\n",
       "  </thead>\n",
       "  <tbody>\n",
       "    <tr>\n",
       "      <th>0</th>\n",
       "      <td>GCF_000001735.4</td>\n",
       "      <td>NC_003071.7</td>\n",
       "      <td>18874538</td>\n",
       "      <td>18875050</td>\n",
       "      <td>+</td>\n",
       "      <td>GGAATGTACTAATAAACTAGAAAAGATCTTGGGTCTGACTAATGCA...</td>\n",
       "    </tr>\n",
       "    <tr>\n",
       "      <th>1</th>\n",
       "      <td>GCF_000001735.4</td>\n",
       "      <td>NC_003071.7</td>\n",
       "      <td>11719046</td>\n",
       "      <td>11719558</td>\n",
       "      <td>-</td>\n",
       "      <td>ATAATCATGGAGCCATATACAATTTAAGATGGTGCAAAAATGGCGA...</td>\n",
       "    </tr>\n",
       "    <tr>\n",
       "      <th>2</th>\n",
       "      <td>GCF_000001735.4</td>\n",
       "      <td>NC_003071.7</td>\n",
       "      <td>6908827</td>\n",
       "      <td>6909339</td>\n",
       "      <td>-</td>\n",
       "      <td>TTTCTGGTAAATCCGATTTTGGGAAACTCTAATTTGATCTCGAGAT...</td>\n",
       "    </tr>\n",
       "    <tr>\n",
       "      <th>3</th>\n",
       "      <td>GCF_000001735.4</td>\n",
       "      <td>NC_003071.7</td>\n",
       "      <td>15915806</td>\n",
       "      <td>15916318</td>\n",
       "      <td>+</td>\n",
       "      <td>TGTACTTCTCCCTTTCCTTGGGGTCATTGCATATAACCTCTTTCAC...</td>\n",
       "    </tr>\n",
       "    <tr>\n",
       "      <th>4</th>\n",
       "      <td>GCF_000001735.4</td>\n",
       "      <td>NC_003071.7</td>\n",
       "      <td>11195806</td>\n",
       "      <td>11196318</td>\n",
       "      <td>+</td>\n",
       "      <td>TTTAGTGGCTAGAAAGAAAACTTTTAACGATAAATTTACTTATGCA...</td>\n",
       "    </tr>\n",
       "  </tbody>\n",
       "</table>\n",
       "</div>"
      ],
      "text/plain": [
       "          assembly        chrom     start       end strand  \\\n",
       "0  GCF_000001735.4  NC_003071.7  18874538  18875050      +   \n",
       "1  GCF_000001735.4  NC_003071.7  11719046  11719558      -   \n",
       "2  GCF_000001735.4  NC_003071.7   6908827   6909339      -   \n",
       "3  GCF_000001735.4  NC_003071.7  15915806  15916318      +   \n",
       "4  GCF_000001735.4  NC_003071.7  11195806  11196318      +   \n",
       "\n",
       "                                                 seq  \n",
       "0  GGAATGTACTAATAAACTAGAAAAGATCTTGGGTCTGACTAATGCA...  \n",
       "1  ATAATCATGGAGCCATATACAATTTAAGATGGTGCAAAAATGGCGA...  \n",
       "2  TTTCTGGTAAATCCGATTTTGGGAAACTCTAATTTGATCTCGAGAT...  \n",
       "3  TGTACTTCTCCCTTTCCTTGGGGTCATTGCATATAACCTCTTTCAC...  \n",
       "4  TTTAGTGGCTAGAAAGAAAACTTTTAACGATAAATTTACTTATGCA...  "
      ]
     },
     "execution_count": 4,
     "metadata": {},
     "output_type": "execute_result"
    }
   ],
   "source": [
    "filtered_data = pd.read_csv('../data/filtered_data.csv')\n",
    "filtered_data.head()"
   ]
  },
  {
   "cell_type": "code",
   "execution_count": 5,
   "metadata": {},
   "outputs": [
    {
     "data": {
      "text/plain": [
       "(134472, 6)"
      ]
     },
     "execution_count": 5,
     "metadata": {},
     "output_type": "execute_result"
    }
   ],
   "source": [
    "filtered_data.shape"
   ]
  },
  {
   "cell_type": "markdown",
   "metadata": {},
   "source": [
    "With the filtered data, we get the chromosome we want to analyze, and the sequence is in all uppercase letters, making it easier to use."
   ]
  }
 ],
 "metadata": {
  "kernelspec": {
   "display_name": "base",
   "language": "python",
   "name": "python3"
  },
  "language_info": {
   "codemirror_mode": {
    "name": "ipython",
    "version": 3
   },
   "file_extension": ".py",
   "mimetype": "text/x-python",
   "name": "python",
   "nbconvert_exporter": "python",
   "pygments_lexer": "ipython3",
   "version": "3.9.20"
  }
 },
 "nbformat": 4,
 "nbformat_minor": 2
}
