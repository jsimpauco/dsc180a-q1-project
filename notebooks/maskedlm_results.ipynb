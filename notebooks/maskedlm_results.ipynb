{
 "cells": [
  {
   "cell_type": "markdown",
   "metadata": {},
   "source": [
    "# MaskedLM Results Notebook"
   ]
  },
  {
   "cell_type": "markdown",
   "metadata": {},
   "source": [
    "This notebook shows the results of the MaskedLM model on the kmers data"
   ]
  },
  {
   "cell_type": "code",
   "execution_count": null,
   "metadata": {},
   "outputs": [],
   "source": [
    "# Imports #\n",
    "import numpy as np\n",
    "import pandas as pd\n",
    "import matplotlib.pyplot as plt"
   ]
  },
  {
   "cell_type": "markdown",
   "metadata": {},
   "source": [
    "Loading in results from the model:"
   ]
  },
  {
   "cell_type": "code",
   "execution_count": null,
   "metadata": {},
   "outputs": [],
   "source": [
    "# CHANGE THE PERCENTAGE TO THE ONE USED IN THE CONFIG FILE (model.json) #\n",
    "percentage = 0.00004727318\n",
    "total_length = int(np.floor(percentage * 2115364))\n",
    "seq_len = 509\n",
    "vocab_size = 4101\n",
    "results = np.memmap('../data/results.npy', dtype=np.float32, mode='r', shape=(total_length, seq_len, vocab_size))"
   ]
  },
  {
   "cell_type": "markdown",
   "metadata": {},
   "source": [
    "Calculating nucleotide scores:"
   ]
  },
  {
   "cell_type": "code",
   "execution_count": null,
   "metadata": {},
   "outputs": [],
   "source": [
    "# Calculate average probabilities for nucleotides across all sequences #\n",
    "nucleotide_scores = results[..., :4].mean(axis=0)\n",
    "\n",
    "# Normalize the nucleotide scores #\n",
    "nucleotide_scores /= nucleotide_scores.sum(axis=1, keepdims=True)"
   ]
  },
  {
   "cell_type": "markdown",
   "metadata": {},
   "source": [
    "Plotting:"
   ]
  },
  {
   "cell_type": "code",
   "execution_count": null,
   "metadata": {},
   "outputs": [],
   "source": [
    "colors = {'A': 'green', 'C': 'blue', 'G': 'orange', 'T': 'red'}\n",
    "nucleotides = ['A', 'C', 'G', 'T']\n",
    "\n",
    "# Range of positions to visualize #\n",
    "start_pos = 9\n",
    "end_pos = 28\n",
    "\n",
    "# Slice nucleotide_scores to include only the specified range #\n",
    "scores_in_range = nucleotide_scores[start_pos:end_pos, :]\n",
    "x = np.arange(start_pos, end_pos)  # Adjust x-axis to match the selected range #\n",
    "\n",
    "# Plot the sequence logo for the specified range #\n",
    "fig, ax = plt.subplots(figsize=(10, 6))\n",
    "bottom = np.zeros(scores_in_range.shape[0])\n",
    "\n",
    "# Stack the nucleotide scores at each position #\n",
    "for i, nucleotide in enumerate(nucleotides):\n",
    "    ax.bar(x, scores_in_range[:, i], bottom=bottom, color=colors[nucleotide], label=nucleotide)\n",
    "    bottom += scores_in_range[:, i]\n",
    "\n",
    "# Labeling and display #\n",
    "ax.set_xticks(x)\n",
    "ax.set_xticklabels([f\"Pos {i+1}\" for i in x], rotation=90)\n",
    "ax.set_xlabel(\"Position in Sequence\")\n",
    "ax.set_ylabel(\"Normalized Score\")\n",
    "ax.legend(title=\"Nucleotides\")\n",
    "plt.title(f\"Sequence Logo for Positions {start_pos + 1} to {end_pos}\")\n",
    "plt.tight_layout()\n",
    "plt.show()"
   ]
  }
 ],
 "metadata": {
  "kernelspec": {
   "display_name": "genetic-variation",
   "language": "python",
   "name": "python3"
  },
  "language_info": {
   "codemirror_mode": {
    "name": "ipython",
    "version": 3
   },
   "file_extension": ".py",
   "mimetype": "text/x-python",
   "name": "python",
   "nbconvert_exporter": "python",
   "pygments_lexer": "ipython3",
   "version": "3.9.20"
  }
 },
 "nbformat": 4,
 "nbformat_minor": 2
}
